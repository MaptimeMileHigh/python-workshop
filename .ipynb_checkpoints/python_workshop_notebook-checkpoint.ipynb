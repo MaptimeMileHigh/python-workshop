{
 "cells": [
  {
   "cell_type": "markdown",
   "metadata": {},
   "source": [
    "### Welcome to getting started with Pyhton!\n",
    "\n",
    "This notebook's goal is not just teach the basics of the python language but instead to show what you can do with it!\n",
    "We will be covering some of the language basics as we move along the project.\n",
    "\n",
    "Tha project at hand is to parse data from [www.coloradobrewerylist.com](www.coloradobrewerylist.com) and perform some basic analysis, including spatial analysis!"
   ]
  },
  {
   "cell_type": "markdown",
   "metadata": {},
   "source": [
    "Fist let's import the libraries we need.\n",
    "\n",
    "The `import` method is used to load external libraries into your code. You can also provide aliases to a given library by using the `as` argument, like were are doing with the `pandas` library."
   ]
  },
  {
   "cell_type": "code",
   "execution_count": null,
   "metadata": {
    "collapsed": true
   },
   "outputs": [],
   "source": [
    "import pip\n",
    "\n",
    "# Install Follium since it doesn't come with Anaconda\n",
    "pip.main(['install', 'folium'])"
   ]
  },
  {
   "cell_type": "code",
   "execution_count": 1,
   "metadata": {
    "collapsed": false
   },
   "outputs": [
    {
     "name": "stderr",
     "output_type": "stream",
     "text": [
      "/Users/ricardooliveira/anaconda/lib/python2.7/site-packages/matplotlib/font_manager.py:273: UserWarning: Matplotlib is building the font cache using fc-list. This may take a moment.\n",
      "  warnings.warn('Matplotlib is building the font cache using fc-list. This may take a moment.')\n"
     ]
    }
   ],
   "source": [
    "import pip\n",
    "import urllib2\n",
    "import json\n",
    "import pandas as pd\n",
    "import bokeh\n",
    "import numpy as np\n",
    "import matplotlib.pyplot as plt\n",
    "import seaborn as sns\n",
    "%matplotlib inline\n",
    "\n",
    "import folium\n",
    "from folium.plugins import MarkerCluster"
   ]
  },
  {
   "cell_type": "code",
   "execution_count": 2,
   "metadata": {
    "collapsed": false
   },
   "outputs": [
    {
     "name": "stdout",
     "output_type": "stream",
     "text": [
      "https://www.coloradobrewerylist.com/wp-json/wp/v2/brewery/?filter%5Bbrewery_visitors%5D=visitors-welcome&location-type_exclude=404,405&page=1&per_page=100\n",
      "https://www.coloradobrewerylist.com/wp-json/wp/v2/brewery/?filter%5Bbrewery_visitors%5D=visitors-welcome&location-type_exclude=404,405&page=2&per_page=100\n",
      "https://www.coloradobrewerylist.com/wp-json/wp/v2/brewery/?filter%5Bbrewery_visitors%5D=visitors-welcome&location-type_exclude=404,405&page=3&per_page=100\n",
      "https://www.coloradobrewerylist.com/wp-json/wp/v2/brewery/?filter%5Bbrewery_visitors%5D=visitors-welcome&location-type_exclude=404,405&page=4&per_page=100\n"
     ]
    }
   ],
   "source": [
    "# This is the base URL that we will be using to get the data from the API. Note the {page} argument.\n",
    "base_url = 'https://www.coloradobrewerylist.com/wp-json/wp/v2/brewery/?\\\n",
    "filter%5Bbrewery_visitors%5D=visitors-welcome&location-type_exclude=404,405&page={page}&per_page=100'\n",
    "\n",
    "# An empty list that we will use to hold the parsed data\n",
    "breweries = []\n",
    "\n",
    "# The API has a limit of 100 results per page, so we need to receive 4 pages to get the full dataset.\n",
    "page_numbers = [1, 2, 3, 4]\n",
    "\n",
    "# A for loop that will iterate over the page_numbers list and update the base_url with each page number.\n",
    "for page_number in page_numbers :\n",
    "    # A new URL is built for each page_number. The format method replaces the {page} argument in the base_url string\n",
    "    # with the current page_number\n",
    "    new_base_url = base_url.format(page=page_number)\n",
    "    print new_base_url\n",
    "    \n",
    "    # Using the urllib2 library we query the new_base_url url which returns the JSON data.\n",
    "    response = urllib2.urlopen(new_base_url)\n",
    "    # Using the JSON library we parse the JSON data into a Python object (a list composed by dictionaries).\n",
    "    data = json.load(response)\n",
    "    \n",
    "    # The parsed data is a list composed by dictionaries holding the data we want. \n",
    "    for el in data:\n",
    "        # grab name, coordinates, and open date\n",
    "        name = el['title']['rendered']\n",
    "        lon = float(el['meta']['brewery_lon'][0])\n",
    "        lat = float(el['meta']['brewery_lat'][0])\n",
    "        open_date = el['meta']['brewery_open_date'][0]\n",
    "        # in case the open_data is missing we set it as a string 'None'\n",
    "        if open_date == None:\n",
    "            open_date = np.nan\n",
    "    \n",
    "\n",
    "        # Build a dictionary with the current brewery data\n",
    "        brewery = {'name': name, 'lng': lon, 'lat': lat, 'open_date': open_date}\n",
    "        \n",
    "        # Add disctionary to main breweries list\n",
    "        breweries.append(brewery) "
   ]
  },
  {
   "cell_type": "code",
   "execution_count": null,
   "metadata": {
    "collapsed": true
   },
   "outputs": [],
   "source": [
    "# Let's look at the final list\n",
    "print breweries"
   ]
  },
  {
   "cell_type": "code",
   "execution_count": 5,
   "metadata": {
    "collapsed": false
   },
   "outputs": [
    {
     "name": "stdout",
     "output_type": "stream",
     "text": [
      "Number of breweries is: 341\n"
     ]
    }
   ],
   "source": [
    "# Using the Pandas library (loaded as pd) we transform our dictionary into a Dataframe.\n",
    "# Dataframes is one the basic data formats provided by Pandas.\n",
    "# It is essentialy a table that support a number of different data analysis methods.\n",
    "df = pd.DataFrame.from_dict(breweries)\n",
    "# Convert data column from string to datatime type\n",
    "df.open_date = pd.to_datetime(df.open_date)\n",
    "print df\n",
    "df.to_csv('./colorado_breweries.csv', encoding='utf-8')\n",
    "print 'Number of breweries is: {}'.format(df.shape[0])"
   ]
  },
  {
   "cell_type": "code",
   "execution_count": null,
   "metadata": {
    "collapsed": false
   },
   "outputs": [],
   "source": [
    "# Let's see when the first brewery was open\n",
    "# df[(df['open_date'] != np.nan)].min()\n",
    "df[df.open_date == df.open_date.min()]"
   ]
  },
  {
   "cell_type": "code",
   "execution_count": null,
   "metadata": {
    "collapsed": false
   },
   "outputs": [],
   "source": [
    "# Let's see when the first brewery was open\n",
    "df[df.open_date == df.open_date.max()]"
   ]
  },
  {
   "cell_type": "code",
   "execution_count": null,
   "metadata": {
    "collapsed": false
   },
   "outputs": [],
   "source": [
    "# Let's create a new column with the year the brewery was open\n",
    "df['open_year'] = df['open_date'].astype('str').str[:4]\n",
    "\n",
    "# And now we count how many breweries were open on each year\n",
    "year_counts = df.groupby(['open_year']).size()"
   ]
  },
  {
   "cell_type": "code",
   "execution_count": null,
   "metadata": {
    "collapsed": false
   },
   "outputs": [],
   "source": [
    "# let's plot a histogran for the open_year column\n",
    "plt.subplots(figsize=(15,8))\n",
    "sns.countplot(x=\"open_year\", data=df[df['open_year'] != 'NaT'], palette=\"Greens_d\")"
   ]
  },
  {
   "cell_type": "code",
   "execution_count": null,
   "metadata": {
    "collapsed": false,
    "scrolled": false
   },
   "outputs": [],
   "source": [
    "# This is maptime, so let's create a map!\n",
    "map = folium.Map(location=[39.7, -104.9])\n",
    "marker_cluster = MarkerCluster().add_to(map)\n",
    "\n",
    "# add a marker for every record in the filtered data, use a clustered view\n",
    "for brewery in df.iterrows():\n",
    "    folium.Marker(\n",
    "        location = [brewery[1]['lat'],brewery[1]['lng']], popup=brewery[1]['name']).add_to(marker_cluster)\n",
    "\n",
    "map"
   ]
  },
  {
   "cell_type": "code",
   "execution_count": null,
   "metadata": {
    "collapsed": false
   },
   "outputs": [],
   "source": []
  },
  {
   "cell_type": "code",
   "execution_count": null,
   "metadata": {
    "collapsed": false
   },
   "outputs": [],
   "source": []
  },
  {
   "cell_type": "code",
   "execution_count": null,
   "metadata": {
    "collapsed": false
   },
   "outputs": [],
   "source": [
    "\n"
   ]
  },
  {
   "cell_type": "code",
   "execution_count": null,
   "metadata": {
    "collapsed": true
   },
   "outputs": [],
   "source": []
  }
 ],
 "metadata": {
  "kernelspec": {
   "display_name": "Python 2",
   "language": "python",
   "name": "python2"
  },
  "language_info": {
   "codemirror_mode": {
    "name": "ipython",
    "version": 2
   },
   "file_extension": ".py",
   "mimetype": "text/x-python",
   "name": "python",
   "nbconvert_exporter": "python",
   "pygments_lexer": "ipython2",
   "version": "2.7.12"
  }
 },
 "nbformat": 4,
 "nbformat_minor": 0
}
